{
 "cells": [
  {
   "cell_type": "code",
   "execution_count": 1,
   "metadata": {},
   "outputs": [],
   "source": [
    "import os\n",
    "import sys\n",
    "import time\n",
    "import argparse\n",
    "import numpy as np\n",
    "from tqdm import tqdm\n",
    "sys.path.append('..')\n",
    "import torch\n",
    "import torch.nn as nn\n",
    "import torch.nn.functional as F\n",
    "import torchvision.transforms as transforms\n",
    "from torch.utils.data import DataLoader, Dataset\n",
    "\n",
    "from scripts.dataset import ImgDataset, readLabel, readImg\n",
    "from scripts.models import DG_model"
   ]
  },
  {
   "cell_type": "code",
   "execution_count": null,
   "metadata": {},
   "outputs": [],
   "source": [
    "workspace = 'data'\n",
    "task = 'siw'\n",
    "if task == 'oulu':\n",
    "    workspace_dir = os.path.join(workspace, 'oulu_npu_cropped/test')\n",
    "    test_x = np.load(os.path.join(workspace,'oulu_npu_cropped/test_x.npy'))\n",
    "if task == 'siw':\n",
    "    workspace_dir = os.path.join(workspace, 'siw_test')\n",
    "    test_x = np.load(os.path.join(workspace, 'test_siw_x.npy'))"
   ]
  },
  {
   "cell_type": "code",
   "execution_count": 3,
   "metadata": {},
   "outputs": [],
   "source": [
    "test_transform = transforms.Compose([\n",
    "    transforms.ToTensor(),\n",
    "    transforms.Normalize(mean=[0.485, 0.456, 0.406],\n",
    "                        std=[0.229, 0.224, 0.225]),\n",
    "])\n",
    "batch_size = 60\n",
    "test_set = ImgDataset(test_x, None, None,test_transform, 'group')\n",
    "test_loader = DataLoader(test_set, batch_size=batch_size, shuffle=False)\n",
    "binary = False\n",
    "model = DG_model(model = 'resnet18', num_cls = (1 if binary else 3)).cuda()\n",
    "model_path = '../logdir/DG_model_01-12-14:05:26/models/model-19-0.964747-0.993563.pth'\n",
    "model.load_state_dict(torch.load(model_path))\n",
    "_ = model.eval()"
   ]
  },
  {
   "cell_type": "code",
   "execution_count": 8,
   "metadata": {},
   "outputs": [
    {
     "name": "stderr",
     "output_type": "stream",
     "text": [
      "100%|██████████| 35/35 [00:27<00:00,  1.27it/s]\n"
     ]
    }
   ],
   "source": [
    "test_preds = []\n",
    "with torch.no_grad():\n",
    "    for vids in tqdm(test_loader):\n",
    "        for vid in vids:\n",
    "            class_logits, embedded = model(vid.cuda())\n",
    "            if binary:\n",
    "                class_logits = torch.mean(class_logits.squeeze()).cpu().numpy()\n",
    "            else:\n",
    "                class_logits = np.argmax(class_logits.cpu().detach().numpy(), axis=1)\n",
    "                counts = np.bincount(class_logits)\n",
    "                class_logits = np.argmax(counts)\n",
    "            test_preds.append(class_logits)"
   ]
  },
  {
   "cell_type": "code",
   "execution_count": 12,
   "metadata": {},
   "outputs": [],
   "source": [
    "import pandas as pd\n",
    "result = np.array(test_preds)\n",
    "image_dir = sorted(os.listdir(workspace_dir))\n",
    "df = pd.DataFrame({'video_id':image_dir, 'label': result})\n",
    "df.to_csv('{}.csv'.format(task),index=False)"
   ]
  },
  {
   "cell_type": "code",
   "execution_count": null,
   "metadata": {},
   "outputs": [],
   "source": []
  }
 ],
 "metadata": {
  "kernelspec": {
   "display_name": "Python 3.6.8 64-bit ('dlcv')",
   "language": "python",
   "name": "python36864bitdlcv12f122213a8b4d8fb394fdf265822007"
  },
  "language_info": {
   "codemirror_mode": {
    "name": "ipython",
    "version": 3
   },
   "file_extension": ".py",
   "mimetype": "text/x-python",
   "name": "python",
   "nbconvert_exporter": "python",
   "pygments_lexer": "ipython3",
   "version": "3.6.8"
  }
 },
 "nbformat": 4,
 "nbformat_minor": 4
}
